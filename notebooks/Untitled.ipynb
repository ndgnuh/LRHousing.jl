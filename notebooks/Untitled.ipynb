{
 "cells": [
  {
   "cell_type": "code",
   "execution_count": 175,
   "id": "5d9bedee",
   "metadata": {},
   "outputs": [],
   "source": [
    "using Chain\n",
    "using DataFrames\n",
    "using CSV\n",
    "using StatsBase\n",
    "using Statistics\n",
    "using Gadfly\n",
    "using Flux"
   ]
  },
  {
   "cell_type": "code",
   "execution_count": null,
   "id": "c0dfa0c2",
   "metadata": {},
   "outputs": [],
   "source": [
    "struct DataLine\n",
    "    number_columns\n",
    "    categorical_columns\n",
    "    log_columns\n",
    "end"
   ]
  },
  {
   "cell_type": "code",
   "execution_count": 151,
   "id": "597c9696",
   "metadata": {},
   "outputs": [
    {
     "data": {
      "text/html": [
       "<div class=\"data-frame\"><p>5 rows × 80 columns (omitted printing of 72 columns)</p><table class=\"data-frame\"><thead><tr><th></th><th>MSSubClass</th><th>MSZoning</th><th>LotFrontage</th><th>LotArea</th><th>Street</th><th>Alley</th><th>LotShape</th><th>LandContour</th></tr><tr><th></th><th title=\"Int64\">Int64</th><th title=\"String\">String</th><th title=\"String\">String</th><th title=\"Int64\">Int64</th><th title=\"String\">String</th><th title=\"String\">String</th><th title=\"String\">String</th><th title=\"String\">String</th></tr></thead><tbody><tr><th>1</th><td>60</td><td>RL</td><td>65</td><td>8450</td><td>Pave</td><td>NA</td><td>Reg</td><td>Lvl</td></tr><tr><th>2</th><td>20</td><td>RL</td><td>80</td><td>9600</td><td>Pave</td><td>NA</td><td>Reg</td><td>Lvl</td></tr><tr><th>3</th><td>60</td><td>RL</td><td>68</td><td>11250</td><td>Pave</td><td>NA</td><td>IR1</td><td>Lvl</td></tr><tr><th>4</th><td>70</td><td>RL</td><td>60</td><td>9550</td><td>Pave</td><td>NA</td><td>IR1</td><td>Lvl</td></tr><tr><th>5</th><td>60</td><td>RL</td><td>84</td><td>14260</td><td>Pave</td><td>NA</td><td>IR1</td><td>Lvl</td></tr></tbody></table></div>"
      ],
      "text/latex": [
       "\\begin{tabular}{r|ccccccccc}\n",
       "\t& MSSubClass & MSZoning & LotFrontage & LotArea & Street & Alley & LotShape & LandContour & \\\\\n",
       "\t\\hline\n",
       "\t& Int64 & String & String & Int64 & String & String & String & String & \\\\\n",
       "\t\\hline\n",
       "\t1 & 60 & RL & 65 & 8450 & Pave & NA & Reg & Lvl & $\\dots$ \\\\\n",
       "\t2 & 20 & RL & 80 & 9600 & Pave & NA & Reg & Lvl & $\\dots$ \\\\\n",
       "\t3 & 60 & RL & 68 & 11250 & Pave & NA & IR1 & Lvl & $\\dots$ \\\\\n",
       "\t4 & 70 & RL & 60 & 9550 & Pave & NA & IR1 & Lvl & $\\dots$ \\\\\n",
       "\t5 & 60 & RL & 84 & 14260 & Pave & NA & IR1 & Lvl & $\\dots$ \\\\\n",
       "\\end{tabular}\n"
      ],
      "text/plain": [
       "\u001b[1m5×80 DataFrame\u001b[0m\n",
       "\u001b[1m Row \u001b[0m│\u001b[1m MSSubClass \u001b[0m\u001b[1m MSZoning \u001b[0m\u001b[1m LotFrontage \u001b[0m\u001b[1m LotArea \u001b[0m\u001b[1m Street \u001b[0m\u001b[1m Alley  \u001b[0m\u001b[1m LotShape \u001b[0m\u001b[1m L\u001b[0m ⋯\n",
       "\u001b[1m     \u001b[0m│\u001b[90m Int64      \u001b[0m\u001b[90m String   \u001b[0m\u001b[90m String      \u001b[0m\u001b[90m Int64   \u001b[0m\u001b[90m String \u001b[0m\u001b[90m String \u001b[0m\u001b[90m String   \u001b[0m\u001b[90m S\u001b[0m ⋯\n",
       "─────┼──────────────────────────────────────────────────────────────────────────\n",
       "   1 │         60  RL        65              8450  Pave    NA      Reg       L ⋯\n",
       "   2 │         20  RL        80              9600  Pave    NA      Reg       L\n",
       "   3 │         60  RL        68             11250  Pave    NA      IR1       L\n",
       "   4 │         70  RL        60              9550  Pave    NA      IR1       L\n",
       "   5 │         60  RL        84             14260  Pave    NA      IR1       L ⋯\n",
       "\u001b[36m                                                              73 columns omitted\u001b[0m"
      ]
     },
     "execution_count": 151,
     "metadata": {},
     "output_type": "execute_result"
    }
   ],
   "source": [
    "train_data = CSV.read(\"../data/train.csv\", DataFrame)\n",
    "train_data = select(train_data, Not(:Id))\n",
    "first(train_data, 5)"
   ]
  },
  {
   "cell_type": "code",
   "execution_count": 109,
   "id": "47d91ced",
   "metadata": {},
   "outputs": [
    {
     "data": {
      "text/plain": [
       "log_norm_skew (generic function with 2 methods)"
      ]
     },
     "execution_count": 109,
     "metadata": {},
     "output_type": "execute_result"
    }
   ],
   "source": [
    "function log_norm_skew(df, thres=0.7)\n",
    "    num_cols = @chain begin\n",
    "        names(df)\n",
    "        filter(i -> eltype(df[!, i]) <: Number && skewness(df[!, i]) > 0.75, _)\n",
    "    end\n",
    "    for col in num_cols\n",
    "        transform!(df, col => ByRow(x -> log2(x + 1)) => \"log_$col\")\n",
    "        select!(df,  Not(col))\n",
    "    end\n",
    "    return df\n",
    "end\n",
    "log_norm_skew(df, thres=0.7) = log_norm_skew!(copy(df), thres)"
   ]
  },
  {
   "cell_type": "code",
   "execution_count": 148,
   "id": "a6b3ac81",
   "metadata": {},
   "outputs": [
    {
     "data": {
      "text/plain": [
       "categoricalize (generic function with 1 method)"
      ]
     },
     "execution_count": 148,
     "metadata": {},
     "output_type": "execute_result"
    }
   ],
   "source": [
    "function categoricalize!(df)\n",
    "    cols = @chain begin\n",
    "        names(df)\n",
    "        filter(i -> eltype(df[!, i]) <: AbstractString, _)\n",
    "    end\n",
    "    transforms = map(cols) do col\n",
    "        values = unique(df[!, col])\n",
    "        map(values) do value\n",
    "            col => ByRow(isequal(value)) => Symbol(\"$(col)_$(value)\")\n",
    "        end\n",
    "    end\n",
    "    @chain begin\n",
    "        transform!(df, transforms...)\n",
    "        select!(_, Not(cols))\n",
    "    end\n",
    "end\n",
    "categoricalize(df) = categoricalize!(copy(df))"
   ]
  },
  {
   "cell_type": "code",
   "execution_count": 116,
   "id": "3a25253f",
   "metadata": {},
   "outputs": [
    {
     "data": {
      "text/plain": [
       "data_pipeline (generic function with 1 method)"
      ]
     },
     "execution_count": 116,
     "metadata": {},
     "output_type": "execute_result"
    }
   ],
   "source": [
    "function data_pipeline(df)\n",
    "    @chain begin\n",
    "        df\n",
    "        log_norm_skew(_)\n",
    "        categoricalize(_)\n",
    "    end\n",
    "end"
   ]
  },
  {
   "cell_type": "code",
   "execution_count": 317,
   "id": "333bf483",
   "metadata": {},
   "outputs": [
    {
     "data": {
      "text/plain": [
       "model1 (generic function with 1 method)"
      ]
     },
     "execution_count": 317,
     "metadata": {},
     "output_type": "execute_result"
    }
   ],
   "source": [
    "function model1(xtrain, ytrain)\n",
    "    n = size(xtrain, 2)\n",
    "    model = Dense(n, 1)\n",
    "    data = @chain begin\n",
    "        xtrain\n",
    "        Matrix{Float32}(_)\n",
    "        eachrow(_)\n",
    "        collect(_)\n",
    "        zip(_, ytrain[!, 1])\n",
    "        collect(_)\n",
    "    end\n",
    "    opt = ADAM(1f-3)\n",
    "    ps = params(model)\n",
    "    loss(x, y) = Flux.Losses.mse(model(x), y)\n",
    "    Flux.Optimise.train!(loss, ps, data, opt)\n",
    "    model\n",
    "end"
   ]
  },
  {
   "cell_type": "code",
   "execution_count": 318,
   "id": "6131260f",
   "metadata": {},
   "outputs": [
    {
     "data": {
      "text/plain": [
       "Dense(838, 1)       \u001b[90m# 839 parameters\u001b[39m"
      ]
     },
     "execution_count": 318,
     "metadata": {},
     "output_type": "execute_result"
    }
   ],
   "source": [
    "m = model1(xtrain, ytrain)"
   ]
  },
  {
   "cell_type": "code",
   "execution_count": 322,
   "id": "a2cfc5eb",
   "metadata": {},
   "outputs": [],
   "source": [
    "# train_data, test_data = train_data[1:1000, :], train_data[1001:end, :]"
   ]
  },
  {
   "cell_type": "code",
   "execution_count": 323,
   "id": "95ac0850",
   "metadata": {},
   "outputs": [],
   "source": [
    "xtrain, ytrain = let df = data_pipeline(train_data)\n",
    "    select(df, Not(\"SalePrice\")), select(df, \"SalePrice\");\n",
    "end;"
   ]
  },
  {
   "cell_type": "code",
   "execution_count": 329,
   "id": "a96ff493",
   "metadata": {},
   "outputs": [],
   "source": [
    "xtest, ytest = select(test_data, Not(\"SalePrice\")), select(test_data, \"SalePrice\");"
   ]
  },
  {
   "cell_type": "code",
   "execution_count": 349,
   "id": "b5935563",
   "metadata": {},
   "outputs": [
    {
     "data": {
      "text/plain": [
       "predict (generic function with 1 method)"
      ]
     },
     "execution_count": 349,
     "metadata": {},
     "output_type": "execute_result"
    }
   ],
   "source": [
    "function predict(model, x)\n",
    "    @chain begin\n",
    "        x\n",
    "        DataFrame(_)\n",
    "        data_pipeline(_)\n",
    "    end\n",
    "#     x_ = data_pipeline(DataFrame(x))\n",
    "#     input = [Float32(x_[name]) for name in names(x)]\n",
    "#     model(input)\n",
    "end"
   ]
  },
  {
   "cell_type": "code",
   "execution_count": 348,
   "id": "760fd66c",
   "metadata": {},
   "outputs": [
    {
     "ename": "LoadError",
     "evalue": "MethodError: no method matching names(::NamedTuple{(:MSSubClass, :MSZoning, :LotFrontage, :LotArea, :Street, :Alley, :LotShape, :LandContour, :Utilities, :LotConfig, :LandSlope, :Neighborhood, :Condition1, :Condition2, :BldgType, :HouseStyle, :OverallQual, :OverallCond, :YearBuilt, :YearRemodAdd, :RoofStyle, :RoofMatl, :Exterior1st, :Exterior2nd, :MasVnrType, :MasVnrArea, :ExterQual, :ExterCond, :Foundation, :BsmtQual, :BsmtCond, :BsmtExposure, :BsmtFinType1, :BsmtFinSF1, :BsmtFinType2, :BsmtFinSF2, :BsmtUnfSF, :TotalBsmtSF, :Heating, :HeatingQC, :CentralAir, :Electrical, Symbol(\"1stFlrSF\"), Symbol(\"2ndFlrSF\"), :LowQualFinSF, :GrLivArea, :BsmtFullBath, :BsmtHalfBath, :FullBath, :HalfBath, :BedroomAbvGr, :KitchenAbvGr, :KitchenQual, :TotRmsAbvGrd, :Functional, :Fireplaces, :FireplaceQu, :GarageType, :GarageYrBlt, :GarageFinish, :GarageCars, :GarageArea, :GarageQual, :GarageCond, :PavedDrive, :WoodDeckSF, :OpenPorchSF, :EnclosedPorch, Symbol(\"3SsnPorch\"), :ScreenPorch, :PoolArea, :PoolQC, :Fence, :MiscFeature, :MiscVal, :MoSold, :YrSold, :SaleType, :SaleCondition), Tuple{Int64, String, String, Int64, String, String, String, String, String, String, String, String, String, String, String, String, Int64, Int64, Int64, Int64, String, String, String, String, String, String, String, String, String, String, String, String, String, Int64, String, Int64, Int64, Int64, String, String, String, String, Int64, Int64, Int64, Int64, Int64, Int64, Int64, Int64, Int64, Int64, String, Int64, String, Int64, String, String, String, String, Int64, Int64, String, String, String, Int64, Int64, Int64, Int64, Int64, Int64, String, String, String, Int64, Int64, Int64, String, String}})\n\u001b[0mClosest candidates are:\n\u001b[0m  names(\u001b[91m::Union{DataFrames.DataFrameColumns, DataFrames.DataFrameRows}\u001b[39m) at /home/hung/.cache/julia/packages/DataFrames/vuMM8/src/abstractdataframe/iteration.jl:261\n\u001b[0m  names(\u001b[91m::Union{DataFrames.DataFrameColumns, DataFrames.DataFrameRows}\u001b[39m, \u001b[91m::Any\u001b[39m) at /home/hung/.cache/julia/packages/DataFrames/vuMM8/src/abstractdataframe/iteration.jl:262\n\u001b[0m  names(\u001b[91m::GroupedDataFrame\u001b[39m) at /home/hung/.cache/julia/packages/DataFrames/vuMM8/src/groupeddataframe/groupeddataframe.jl:314\n\u001b[0m  ...",
     "output_type": "error",
     "traceback": [
      "MethodError: no method matching names(::NamedTuple{(:MSSubClass, :MSZoning, :LotFrontage, :LotArea, :Street, :Alley, :LotShape, :LandContour, :Utilities, :LotConfig, :LandSlope, :Neighborhood, :Condition1, :Condition2, :BldgType, :HouseStyle, :OverallQual, :OverallCond, :YearBuilt, :YearRemodAdd, :RoofStyle, :RoofMatl, :Exterior1st, :Exterior2nd, :MasVnrType, :MasVnrArea, :ExterQual, :ExterCond, :Foundation, :BsmtQual, :BsmtCond, :BsmtExposure, :BsmtFinType1, :BsmtFinSF1, :BsmtFinType2, :BsmtFinSF2, :BsmtUnfSF, :TotalBsmtSF, :Heating, :HeatingQC, :CentralAir, :Electrical, Symbol(\"1stFlrSF\"), Symbol(\"2ndFlrSF\"), :LowQualFinSF, :GrLivArea, :BsmtFullBath, :BsmtHalfBath, :FullBath, :HalfBath, :BedroomAbvGr, :KitchenAbvGr, :KitchenQual, :TotRmsAbvGrd, :Functional, :Fireplaces, :FireplaceQu, :GarageType, :GarageYrBlt, :GarageFinish, :GarageCars, :GarageArea, :GarageQual, :GarageCond, :PavedDrive, :WoodDeckSF, :OpenPorchSF, :EnclosedPorch, Symbol(\"3SsnPorch\"), :ScreenPorch, :PoolArea, :PoolQC, :Fence, :MiscFeature, :MiscVal, :MoSold, :YrSold, :SaleType, :SaleCondition), Tuple{Int64, String, String, Int64, String, String, String, String, String, String, String, String, String, String, String, String, Int64, Int64, Int64, Int64, String, String, String, String, String, String, String, String, String, String, String, String, String, Int64, String, Int64, Int64, Int64, String, String, String, String, Int64, Int64, Int64, Int64, Int64, Int64, Int64, Int64, Int64, Int64, String, Int64, String, Int64, String, String, String, String, Int64, Int64, String, String, String, Int64, Int64, Int64, Int64, Int64, Int64, String, String, String, Int64, Int64, Int64, String, String}})\n\u001b[0mClosest candidates are:\n\u001b[0m  names(\u001b[91m::Union{DataFrames.DataFrameColumns, DataFrames.DataFrameRows}\u001b[39m) at /home/hung/.cache/julia/packages/DataFrames/vuMM8/src/abstractdataframe/iteration.jl:261\n\u001b[0m  names(\u001b[91m::Union{DataFrames.DataFrameColumns, DataFrames.DataFrameRows}\u001b[39m, \u001b[91m::Any\u001b[39m) at /home/hung/.cache/julia/packages/DataFrames/vuMM8/src/abstractdataframe/iteration.jl:262\n\u001b[0m  names(\u001b[91m::GroupedDataFrame\u001b[39m) at /home/hung/.cache/julia/packages/DataFrames/vuMM8/src/groupeddataframe/groupeddataframe.jl:314\n\u001b[0m  ...",
      "",
      "Stacktrace:",
      " [1] log_norm_skew!(df::NamedTuple{(:MSSubClass, :MSZoning, :LotFrontage, :LotArea, :Street, :Alley, :LotShape, :LandContour, :Utilities, :LotConfig, :LandSlope, :Neighborhood, :Condition1, :Condition2, :BldgType, :HouseStyle, :OverallQual, :OverallCond, :YearBuilt, :YearRemodAdd, :RoofStyle, :RoofMatl, :Exterior1st, :Exterior2nd, :MasVnrType, :MasVnrArea, :ExterQual, :ExterCond, :Foundation, :BsmtQual, :BsmtCond, :BsmtExposure, :BsmtFinType1, :BsmtFinSF1, :BsmtFinType2, :BsmtFinSF2, :BsmtUnfSF, :TotalBsmtSF, :Heating, :HeatingQC, :CentralAir, :Electrical, Symbol(\"1stFlrSF\"), Symbol(\"2ndFlrSF\"), :LowQualFinSF, :GrLivArea, :BsmtFullBath, :BsmtHalfBath, :FullBath, :HalfBath, :BedroomAbvGr, :KitchenAbvGr, :KitchenQual, :TotRmsAbvGrd, :Functional, :Fireplaces, :FireplaceQu, :GarageType, :GarageYrBlt, :GarageFinish, :GarageCars, :GarageArea, :GarageQual, :GarageCond, :PavedDrive, :WoodDeckSF, :OpenPorchSF, :EnclosedPorch, Symbol(\"3SsnPorch\"), :ScreenPorch, :PoolArea, :PoolQC, :Fence, :MiscFeature, :MiscVal, :MoSold, :YrSold, :SaleType, :SaleCondition), Tuple{Int64, String, String, Int64, String, String, String, String, String, String, String, String, String, String, String, String, Int64, Int64, Int64, Int64, String, String, String, String, String, String, String, String, String, String, String, String, String, Int64, String, Int64, Int64, Int64, String, String, String, String, Int64, Int64, Int64, Int64, Int64, Int64, Int64, Int64, Int64, Int64, String, Int64, String, Int64, String, String, String, String, Int64, Int64, String, String, String, Int64, Int64, Int64, Int64, Int64, Int64, String, String, String, Int64, Int64, Int64, String, String}}, thres::Float64)",
      "   @ Main ./In[67]:3",
      " [2] log_norm_skew(df::DataFrameRow{DataFrame, DataFrames.Index}, thres::Float64) (repeats 2 times)",
      "   @ Main ./In[109]:12",
      " [3] data_pipeline(df::DataFrameRow{DataFrame, DataFrames.Index})",
      "   @ Main ./In[116]:4",
      " [4] predict(model::Dense{typeof(identity), Matrix{Float32}, Vector{Float32}}, x::DataFrameRow{DataFrame, DataFrames.Index})",
      "   @ Main ./In[347]:5",
      " [5] top-level scope",
      "   @ In[348]:1",
      " [6] eval",
      "   @ ./boot.jl:373 [inlined]",
      " [7] include_string(mapexpr::typeof(REPL.softscope), mod::Module, code::String, filename::String)",
      "   @ Base ./loading.jl:1196"
     ]
    }
   ],
   "source": [
    "predict(m, xtest[1, :])"
   ]
  },
  {
   "cell_type": "code",
   "execution_count": null,
   "id": "5aa27dee",
   "metadata": {},
   "outputs": [],
   "source": []
  }
 ],
 "metadata": {
  "@webio": {
   "lastCommId": null,
   "lastKernelId": null
  },
  "kernelspec": {
   "display_name": "julia 1.7.0-beta3",
   "language": "julia",
   "name": "julia-1.7"
  },
  "language_info": {
   "file_extension": ".jl",
   "mimetype": "application/julia",
   "name": "julia",
   "version": "1.7.0"
  }
 },
 "nbformat": 4,
 "nbformat_minor": 5
}
